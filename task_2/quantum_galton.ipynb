{
 "cells": [
  {
   "cell_type": "markdown",
   "metadata": {},
   "source": [
    "# Quantum Galton Box: Binomial to Gaussian with Grover-Rudolph Method\n",
    "\n",
    "<div style=\"background-color: #f0f8ff; padding: 20px; border-radius: 10px; box-shadow: 0 4px 8px rgba(0,0,0,0.1); font-family: Arial, sans-serif; color: #34495e; font-size: 16px;\">\n",
    "\n",
    "  <h1 style=\"color: #2c3e50;\">Task 2: Quantum Galton Box Simulation</h1>\n",
    "\n",
    "  <p>\n",
    "    This notebook implements a quantum circuit for a Galton Box with <i>n</i> layers, encoding a binomial distribution using the Grover-Rudolph method.\n",
    "  </p>\n",
    "\n",
    "  <div style=\"text-align: center; font-size: 18px; margin: 10px 0; color: #2c3e50;\">\n",
    "    <b><i>p(k) = C(n, k) / 2ⁿ</i></b>\n",
    "  </div>\n",
    "\n",
    "  <p>\n",
    "    We verify its approximation to a Gaussian distribution and compare it to a classical Monte Carlo simulation for efficiency and accuracy. The project aligns with UN SDG 9 (Industry, Innovation, and Infrastructure) by advancing quantum algorithm development for scalable simulations.\n",
    "  </p>\n",
    "\n",
    "</div>\n"
   ]
  },
  {
   "cell_type": "markdown",
   "metadata": {},
   "source": [
    "---"
   ]
  },
  {
   "cell_type": "markdown",
   "metadata": {},
   "source": [
    "## 1. Introduction\n",
    "\n",
    "<div style=\"background-color: #e8f4f8; padding: 15px; border-left: 5px solid #3498db; border-radius: 8px; box-shadow: 0 4px 6px rgba(0,0,0,0.05); margin-bottom: 20px; font-family: Arial, sans-serif;\">\n",
    "\n",
    "  <h2 style=\"color: #2c3e50;\">Problem Statement</h2>\n",
    "\n",
    "  <p style=\"font-size: 14px; color: #34495e;\">\n",
    "    The Galton Box models a binomial distribution through a pegboard where balls fall, approximating a Gaussian distribution for large <i>n</i>. We aim to:\n",
    "  </p>\n",
    "\n",
    "  <ul style=\"font-size: 14px; color: #34495e; margin-top: -10px;\">\n",
    "    <li>Develop a quantum circuit to prepare a state encoding <i>p(k) = C(n, k) / 2<sup>n</sup></i> using the Grover-Rudolph method.</li>\n",
    "    <li>Verify the state approximates a Gaussian distribution.</li>\n",
    "    <li>Compare quantum and classical Monte Carlo simulations for computational efficiency and accuracy.</li>\n",
    "  </ul>\n",
    "\n",
    "  <p style=\"font-size: 14px; color: #34495e;\">\n",
    "    <b>Impact:</b> Efficient quantum simulations can accelerate modeling in physics, finance, and sustainability, supporting scalable innovation.\n",
    "  </p>\n",
    "\n",
    "</div>\n"
   ]
  },
  {
   "cell_type": "markdown",
   "metadata": {},
   "source": [
    "---"
   ]
  },
  {
   "cell_type": "markdown",
   "metadata": {},
   "source": [
    "## 2. Theoretical Background\n",
    "\n",
    "<div style=\"background-color: #fff3cd; padding: 15px; border-left: 5px solid #f1c40f; border-radius: 8px; box-shadow: 0 4px 6px rgba(0,0,0,0.05); font-family: Arial, sans-serif;\">\n",
    "\n",
    "  <h2 style=\"color: #2c3e50;\">Key Concepts</h2>\n",
    "\n",
    "  <ul style=\"font-size: 14px; color: #34495e;\">\n",
    "    <li><b>Galton Box:</b> A physical system where balls fall through <i>n</i> layers of pegs, landing in bins with probabilities following a binomial distribution.</li>\n",
    "    <li><b>Binomial to Gaussian:</b> For large <i>n</i>, the binomial distribution <i>p(k) = C(n, k) / 2<sup>n</sup></i> approximates a Gaussian via the Central Limit Theorem.</li>\n",
    "    <li><b>Grover-Rudolph Method:</b> A quantum state preparation technique to encode probability distributions into quantum states using controlled rotations.</li>\n",
    "    <li><b>Quantum Advantage:</b> Quantum circuits may reduce computational complexity for sampling distributions compared to classical methods.</li>\n",
    "  </ul>\n",
    "\n",
    "</div>\n"
   ]
  },
  {
   "cell_type": "markdown",
   "metadata": {},
   "source": [
    "---"
   ]
  },
  {
   "cell_type": "markdown",
   "metadata": {},
   "source": [
    "## 3. Setup and Dependencies\n",
    "\n",
    "<div style=\"background-color: #e8f8f0; padding: 15px; border-left: 5px solid #27ae60; border-radius: 8px; box-shadow: 0 4px 6px rgba(0,0,0,0.05); font-family: Arial, sans-serif;\">\n",
    "\n",
    "  <h2 style=\"color: #2c3e50;\">Environment Setup</h2>\n",
    "\n",
    "  <p style=\"font-size: 14px; color: #34495e;\">\n",
    "    Install required libraries and set up the environment for quantum and classical simulations.\n",
    "  </p>\n",
    "\n",
    "</div>"
   ]
  },
  {
   "cell_type": "code",
   "execution_count": 1,
   "metadata": {},
   "outputs": [
    {
     "name": "stdout",
     "output_type": "stream",
     "text": [
      "Serving at http://localhost:8000\n"
     ]
    },
    {
     "name": "stderr",
     "output_type": "stream",
     "text": [
      "127.0.0.1 - - [06/Jul/2025 10:23:24] \"GET /notebook_animations/galton_board_classical.html HTTP/1.1\" 304 -\n",
      "127.0.0.1 - - [06/Jul/2025 10:27:35] \"GET /notebook_animations/galton_board_classical.html HTTP/1.1\" 304 -\n",
      "127.0.0.1 - - [06/Jul/2025 10:39:01] \"GET /notebook_animations/galton_board_classical.html HTTP/1.1\" 304 -\n",
      "127.0.0.1 - - [06/Jul/2025 10:46:45] \"GET /notebook_animations/galton_board_classical.html HTTP/1.1\" 200 -\n",
      "127.0.0.1 - - [06/Jul/2025 10:55:44] \"GET /notebook_animations/galton_board_classical.html HTTP/1.1\" 200 -\n",
      "127.0.0.1 - - [06/Jul/2025 10:56:15] \"GET /notebook_animations/galton_board_classical.html HTTP/1.1\" 304 -\n",
      "127.0.0.1 - - [06/Jul/2025 10:57:07] \"GET /notebook_animations/galton_board_classical.html HTTP/1.1\" 304 -\n",
      "127.0.0.1 - - [06/Jul/2025 11:01:44] \"GET /notebook_animations/galton_board_classical.html HTTP/1.1\" 200 -\n",
      "127.0.0.1 - - [06/Jul/2025 11:03:58] \"GET /notebook_animations/galton_board_classical.html HTTP/1.1\" 304 -\n",
      "127.0.0.1 - - [06/Jul/2025 11:04:24] \"GET /notebook_animations/galton_board_classical.html HTTP/1.1\" 304 -\n",
      "127.0.0.1 - - [06/Jul/2025 11:08:56] \"GET /notebook_animations/galton_board_classical.html HTTP/1.1\" 200 -\n",
      "127.0.0.1 - - [06/Jul/2025 11:11:09] \"GET /notebook_animations/galton_board_classical.html HTTP/1.1\" 200 -\n",
      "127.0.0.1 - - [06/Jul/2025 11:23:43] \"GET /notebook_animations/galton_board_classical.html HTTP/1.1\" 200 -\n",
      "127.0.0.1 - - [06/Jul/2025 11:24:06] \"GET /notebook_animations/galton_board_classical.html HTTP/1.1\" 304 -\n",
      "127.0.0.1 - - [06/Jul/2025 11:24:44] \"GET /notebook_animations/galton_board_classical.html HTTP/1.1\" 304 -\n"
     ]
    }
   ],
   "source": [
    "import http.server, socketserver, threading, numpy as np, matplotlib.pyplot as plt, time\n",
    "from qiskit import QuantumCircuit\n",
    "from qiskit_aer import AerSimulator\n",
    "from qiskit.visualization import plot_histogram\n",
    "from scipy.stats import binom, norm\n",
    "\n",
    "PORT = 8000\n",
    "\n",
    "def start_server():\n",
    "    Handler = http.server.SimpleHTTPRequestHandler\n",
    "    httpd = socketserver.TCPServer((\"\", PORT), Handler)\n",
    "    print(f\"Serving at http://localhost:{PORT}\")\n",
    "    httpd.serve_forever()\n",
    "\n",
    "thread = threading.Thread(target=start_server)\n",
    "thread.daemon = True\n",
    "thread.start()"
   ]
  },
  {
   "cell_type": "code",
   "execution_count": null,
   "metadata": {},
   "outputs": [],
   "source": [
    "import numpy as np\n",
    "import matplotlib.pyplot as plt\n",
    "from qiskit import QuantumCircuit\n",
    "from qiskit_aer import AerSimulator\n",
    "from qiskit.visualization import plot_histogram\n",
    "from scipy.stats import binom, norm\n",
    "import time\n",
    "\n",
    "# Styling for plots\n",
    "plt.style.use('seaborn-v0_8')  # Use Seaborn style"
   ]
  },
  {
   "cell_type": "markdown",
   "metadata": {},
   "source": [
    "---"
   ]
  },
  {
   "cell_type": "markdown",
   "metadata": {},
   "source": [
    "## 4. Classical Monte Carlo Simulation\n",
    "\n",
    "<div style=\"background-color: #f0f0f0; padding: 15px; border-left: 5px solid #7f8c8d; border-radius: 8px; box-shadow: 0 4px 6px rgba(0,0,0,0.05); font-family: Arial, sans-serif;\">\n",
    "\n",
    "  <h2 style=\"color: #2c3e50;\">Classical Galton Box Simulation</h2>\n",
    "\n",
    "  <p style=\"font-size: 14px; color: #34495e;\">\n",
    "    Simulate a Galton Box classically using Monte Carlo methods to generate a binomial distribution and measure runtime.\n",
    "  </p>\n",
    "\n",
    "</div>\n"
   ]
  },
  {
   "cell_type": "markdown",
   "metadata": {
    "vscode": {
     "languageId": "javascript"
    }
   },
   "source": [
    "<iframe\n",
    "  src=\"http://localhost:8000/notebook_animations/galton_board_classical.html\"\n",
    "  width=\"100%\"\n",
    "  height=\"700\"\n",
    "  frameborder=\"0\"\n",
    "  style=\"overflow: hidden; border: none;\"\n",
    "  scrolling=\"no\"\n",
    "></iframe>\n"
   ]
  },
  {
   "cell_type": "code",
   "execution_count": null,
   "metadata": {},
   "outputs": [],
   "source": [
    "def classical_galton_box(n_layers, n_trials):\n",
    "    bins = np.zeros(n_layers + 1)\n",
    "    start_time = time.time()\n",
    "    for _ in range(n_trials):\n",
    "        pos = 0\n",
    "        for _ in range(n_layers):\n",
    "            pos += np.random.choice([0, 1])  # 0 for left, 1 for right\n",
    "        bins[pos] += 1\n",
    "    runtime = time.time() - start_time\n",
    "    probabilities = bins / n_trials\n",
    "    return probabilities, runtime\n",
    "\n",
    "# Example: n=10 layers, 10000 trials\n",
    "n_layers, n_trials = 10, 10000\n",
    "classical_probs, classical_time = classical_galton_box(n_layers, n_trials)\n",
    "\n",
    "# Plot results\n",
    "x = np.arange(0, n_layers + 1)\n",
    "plt.figure(figsize=(10, 6))\n",
    "plt.bar(x, classical_probs, alpha=0.6, label='Classical Monte Carlo')\n",
    "plt.plot(x, binom.pmf(x,n_layers, 0.5), 'g--', label='Binomial PMF')\n",
    "plt.plot(x, norm.pdf(x, n_layers/2, np.sqrt(n_layers/4)), 'r-', label='Gaussian Fit')\n",
    "plt.title('Classical Galton Box: Binomial Distribution')\n",
    "plt.xlabel('Bin')\n",
    "plt.ylabel('Probability')\n",
    "plt.legend()\n",
    "plt.show()\n",
    "print(f\"Classical runtime: {classical_time:.4f} seconds\")"
   ]
  },
  {
   "cell_type": "markdown",
   "metadata": {},
   "source": [
    "---"
   ]
  },
  {
   "cell_type": "markdown",
   "metadata": {},
   "source": [
    "## 5. Quantum Circuit Design\n",
    "\n",
    "<div style=\"background-color: #e8f4f8; padding: 15px; border-left: 5px solid #3498db; border-radius: 8px; box-shadow: 0 4px 6px rgba(0,0,0,0.05); font-family: Arial, sans-serif;\">\n",
    "\n",
    "  <h2 style=\"color: #2c3e50;\">Quantum State Preparation with Grover-Rudolph</h2>\n",
    "\n",
    "  <p style=\"font-size: 14px; color: #34495e;\">\n",
    "    Implement a quantum circuit to prepare a state encoding \n",
    "    <i>p(k) = C(n, k) / 2<sup>n</sup></i> \n",
    "    using the Grover-Rudolph method. Use Qiskit for simulation.\n",
    "  </p>\n",
    "\n",
    "</div>\n"
   ]
  },
  {
   "cell_type": "markdown",
   "metadata": {},
   "source": [
    "---"
   ]
  },
  {
   "cell_type": "markdown",
   "metadata": {},
   "source": [
    "## 6. Verification: Gaussian Approximation\n",
    "\n",
    "<div style=\"background-color: #fff3cd; padding: 15px; border-left: 5px solid #f1c40f; border-radius: 8px; box-shadow: 0 4px 6px rgba(0,0,0,0.05); font-family: Arial, sans-serif;\">\n",
    "\n",
    "  <h2 style=\"color: #2c3e50;\">Comparing Binomial to Gaussian</h2>\n",
    "\n",
    "  <p style=\"font-size: 14px; color: #34495e;\">\n",
    "    Verify that both classical and quantum distributions approximate a Gaussian using statistical metrics (e.g., KL divergence).\n",
    "  </p>\n",
    "\n",
    "</div>\n"
   ]
  },
  {
   "cell_type": "markdown",
   "metadata": {},
   "source": [
    "---"
   ]
  },
  {
   "cell_type": "markdown",
   "metadata": {},
   "source": [
    "## 7. Efficiency and Accuracy Comparison\n",
    "\n",
    "<div style=\"background-color: #e8f8f0; padding: 15px; border-left: 5px solid #27ae60; border-radius: 8px; box-shadow: 0 4px 6px rgba(0,0,0,0.05); font-family: Arial, sans-serif;\">\n",
    "\n",
    "  <h2 style=\"color: #2c3e50;\">Quantum vs. Classical Performance</h2>\n",
    "\n",
    "  <p style=\"font-size: 14px; color: #34495e;\">\n",
    "    Compare runtime and accuracy (via KL divergence) between quantum and classical simulations.\n",
    "  </p>\n",
    "\n",
    "</div>\n"
   ]
  },
  {
   "cell_type": "markdown",
   "metadata": {},
   "source": [
    "---"
   ]
  },
  {
   "cell_type": "markdown",
   "metadata": {},
   "source": [
    "## 8. Hackathon Presentation Strategy\n",
    "\n",
    "<div style=\"background-color: #f0f8ff; padding: 15px; border-left: 5px solid #2980b9; border-radius: 8px; box-shadow: 0 4px 6px rgba(0,0,0,0.05); font-family: Arial, sans-serif;\">\n",
    "\n",
    "  <h2 style=\"color: #2c3e50;\">2-Minute Pitch Outline</h2>\n",
    "\n",
    "  <ul style=\"font-size: 14px; color: #34495e; margin-top: 0;\">\n",
    "    <li><b>Hook (15s):</b> \"Imagine simulating complex systems like fluid dynamics or financial models faster than ever—our quantum Galton Box makes it possible!\"</li>\n",
    "    <li><b>Problem & Solution (45s):</b> Explain the Galton Box, binomial-to-Gaussian transition, and how our quantum circuit uses Grover-Rudolph for efficient state preparation.</li>\n",
    "    <li><b>Results (45s):</b> Show plots comparing quantum and classical distributions, highlight runtime and accuracy, and emphasize quantum advantage.</li>\n",
    "    <li><b>Impact (15s):</b> Tie to SDG 9, scalable quantum simulations, and future applications in your quantum hardware venture.</li>\n",
    "  </ul>\n",
    "\n",
    "  <p style=\"font-size: 14px; color: #34495e; margin-top: 10px;\">\n",
    "    <b>Visuals:</b> Circuit diagram (Qiskit), distribution plots, and a live demo of the quantum simulation.\n",
    "  </p>\n",
    "\n",
    "</div>\n"
   ]
  },
  {
   "cell_type": "markdown",
   "metadata": {},
   "source": [
    "---"
   ]
  },
  {
   "cell_type": "markdown",
   "metadata": {},
   "source": [
    "## 9. Collaboration and Next Steps\n",
    "\n",
    "<div style=\"background-color: #f0f0f0; padding: 15px; border-left: 5px solid #7f8c8d; border-radius: 8px; box-shadow: 0 4px 6px rgba(0,0,0,0.05); font-family: Arial, sans-serif;\">\n",
    "\n",
    "  <h2 style=\"color: #2c3e50;\">Teamwork and Networking</h2>\n",
    "\n",
    "  <ul style=\"font-size: 14px; color: #34495e; margin-top: 0;\">\n",
    "    <li><b>GitHub Collaboration:</b> Use a branching strategy (feature branches for quantum/classical code), conduct code reviews via pull requests, and document in README.</li>\n",
    "    <li><b>Networking:</b> Attend PennyLane tutorials (per hackathon agenda) to optimize Grover-Rudolph implementation. Approach mentors like Dr. Nana Liu with specific questions (e.g., \"How can we improve multi-qubit rotations for scalability?\").</li>\n",
    "    <li><b>Next Steps:</b> Refine quantum circuit for larger <i>n</i>, test on real quantum hardware via IBM Quantum, and prepare a YouTube-style explainer video for broader impact.</li>\n",
    "  </ul>\n",
    "\n",
    "</div>\n"
   ]
  },
  {
   "cell_type": "markdown",
   "metadata": {},
   "source": [
    "---"
   ]
  },
  {
   "cell_type": "markdown",
   "metadata": {},
   "source": [
    "## 10. Conclusion\n",
    "\n",
    "<div style=\"background-color: #e8f4f8; padding: 15px; border-left: 5px solid #3498db; border-radius: 8px; box-shadow: 0 4px 6px rgba(0,0,0,0.05); font-family: Arial, sans-serif;\">\n",
    "\n",
    "  <h2 style=\"color: #2c3e50;\">Summary and Future Work</h2>\n",
    "\n",
    "  <p style=\"font-size: 14px; color: #34495e;\">\n",
    "    This notebook demonstrates a quantum Galton Box simulation, leveraging the Grover-Rudolph method to encode a binomial distribution and verifying its Gaussian approximation. The quantum approach shows potential for efficiency gains, aligning with SDG 9. Future work includes optimizing the circuit for scalability and integrating it into a portfolio for your quantum hardware company.\n",
    "  </p>\n",
    "\n",
    "</div>\n"
   ]
  }
 ],
 "metadata": {
  "kernelspec": {
   "display_name": "QuantumGaltonBoard2025",
   "language": "python",
   "name": "python3"
  },
  "language_info": {
   "codemirror_mode": {
    "name": "ipython",
    "version": 3
   },
   "file_extension": ".py",
   "mimetype": "text/x-python",
   "name": "python",
   "nbconvert_exporter": "python",
   "pygments_lexer": "ipython3",
   "version": "3.13.5"
  }
 },
 "nbformat": 4,
 "nbformat_minor": 4
}
